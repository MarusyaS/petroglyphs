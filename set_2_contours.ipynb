{
 "cells": [
  {
   "cell_type": "code",
   "execution_count": 119,
   "id": "69ca32e3-eb8b-450c-95a4-b792a437506c",
   "metadata": {},
   "outputs": [],
   "source": [
    "%matplotlib inline"
   ]
  },
  {
   "cell_type": "code",
   "execution_count": 120,
   "id": "074ec769-15ef-457c-946f-bff9bab55b55",
   "metadata": {},
   "outputs": [],
   "source": [
    "import numpy as np\n",
    "import matplotlib\n",
    "import matplotlib.pyplot as plt\n",
    "import cv2\n",
    "\n",
    "import os\n",
    "from skimage import io\n",
    "from natsort import natsorted, ns\n",
    "\n",
    "import matplotlib.pyplot as plt\n",
    "from skimage import data, img_as_float\n",
    "from skimage.util import img_as_uint\n",
    "from skimage import morphology\n",
    "from scipy import ndimage as ndi\n",
    "from skimage.color import rgb2gray\n",
    "from skimage.color import rgba2rgb\n",
    "from skimage.filters import gaussian\n",
    "from skimage.transform import resize\n",
    "from skimage import util \n",
    "\n",
    "\n"
   ]
  },
  {
   "cell_type": "code",
   "execution_count": 121,
   "id": "06503a68-cd6b-455e-8019-ef3ce40d5639",
   "metadata": {},
   "outputs": [],
   "source": [
    "from skimage.segmentation import (morphological_chan_vese,\n",
    "                                  morphological_geodesic_active_contour,\n",
    "                                  inverse_gaussian_gradient,\n",
    "                                  checkerboard_level_set)\n",
    "#for GAC\n"
   ]
  },
  {
   "cell_type": "code",
   "execution_count": 122,
   "id": "d82a3b89-049b-4bd5-9b3f-d0ae0129cd3f",
   "metadata": {},
   "outputs": [],
   "source": [
    "path = 'C:/Users/Dell/Documents/COURSE 1/PROJEKT/code/data_cut/'"
   ]
  },
  {
   "cell_type": "code",
   "execution_count": null,
   "id": "aabf4c6f-b67b-4162-9f5d-97f8430bd044",
   "metadata": {},
   "outputs": [],
   "source": [
    "def resizeAndPad(img, size, padColor=0):\n",
    "\n",
    "    h, w = img.shape[:2]\n",
    "    sh, sw = size\n",
    "\n",
    "    # interpolation method\n",
    "    if h > sh or w > sw: # shrinking image\n",
    "        interp = cv2.INTER_AREA\n",
    "    else: # stretching image\n",
    "        interp = cv2.INTER_CUBIC\n",
    "\n",
    "    # aspect ratio of image\n",
    "    #print(img.shape[:2])\n",
    "    #print(h,w)\n",
    "    aspect = w/h # if on Python 2, you might need to cast as a float: float(w)/h\n",
    "    #print(aspect)\n",
    "    # compute scaling and pad sizing\n",
    "    if aspect > 1: # horizontal image\n",
    "        new_w = sw\n",
    "        new_h = np.round(new_w/aspect).astype(int)\n",
    "        pad_vert = (sh-new_h)/2\n",
    "        pad_top, pad_bot = np.floor(pad_vert).astype(int), np.ceil(pad_vert).astype(int)\n",
    "        pad_left, pad_right = 0, 0\n",
    "    elif aspect < 1: # vertical image\n",
    "        new_h = sh\n",
    "        new_w = np.round(new_h*aspect).astype(int)\n",
    "        pad_horz = (sw-new_w)/2\n",
    "        pad_left, pad_right = np.floor(pad_horz).astype(int), np.ceil(pad_horz).astype(int)\n",
    "        pad_top, pad_bot = 0, 0\n",
    "    else: # square image\n",
    "        new_h, new_w = sh, sw\n",
    "        pad_left, pad_right, pad_top, pad_bot = 0, 0, 0, 0\n",
    "\n",
    "    # set pad color\n",
    "    if len(img.shape) == 3 and not isinstance(padColor, (list, tuple, np.ndarray)): # color image but only one color provided\n",
    "        padColor = [padColor]*3\n",
    "        #padColor = cv2.BORDER_REPLICATE\n",
    "\n",
    "    # scale and pad\n",
    "    scaled_img = cv2.resize(img, (new_w, new_h), interpolation=interp)\n",
    "    scaled_img = cv2.copyMakeBorder(scaled_img, pad_top, pad_bot, pad_left, pad_right, borderType=cv2.BORDER_CONSTANT, value=[255, 255, 255])\n",
    "#borderType=cv2.BORDER_REPLICATE \n",
    "    return scaled_img\n",
    "\n",
    "\n",
    "def ReduceGrey(img):\n",
    "    img[np.where(((image>[70, 70, 70]) & (image <[245, 245, 245])).all(axis=2))] = [255,255,255]\n",
    "    return img\n",
    "\n",
    "def SelectAndCutBlackObject(img):\n",
    "    \n",
    "    indices = np.where(img < [20])\n",
    "    minimum_y = np.amin(indices[0]-2) \n",
    "    maximum_y = np.amax(indices[0]+2) \n",
    "    minimum_x = np.amin(indices[1]-2) \n",
    "    maximum_x = np.amax(indices[1]+2) \n",
    "    deer = img[minimum_y:maximum_y, minimum_x:maximum_x]\n",
    "    return deer"
   ]
  },
  {
   "cell_type": "raw",
   "id": "c285a38b-c7b9-4dc6-b2f8-8f120bc6cd2d",
   "metadata": {},
   "source": [
    "for f in os.listdir(path):\n",
    "    filename, fext = os.path.splitext(f)\n",
    " \n",
    "    image = cv2.imread(path+filename+fext)\n",
    "    if image is None:\n",
    "        print(filename)"
   ]
  },
  {
   "cell_type": "code",
   "execution_count": 124,
   "id": "8a3520ab-cdf7-40b2-96c2-1af58f946f86",
   "metadata": {},
   "outputs": [],
   "source": [
    "with open('png_for_set_2.txt') as f:\n",
    "    png_for_set_2 = f.read().splitlines()"
   ]
  },
  {
   "cell_type": "code",
   "execution_count": 125,
   "id": "3ca7cdc0-2b50-4ab7-b393-4c1e561aeca4",
   "metadata": {},
   "outputs": [
    {
     "data": {
      "text/plain": [
       "464"
      ]
     },
     "execution_count": 125,
     "metadata": {},
     "output_type": "execute_result"
    }
   ],
   "source": [
    "len(png_for_set_2)"
   ]
  },
  {
   "cell_type": "code",
   "execution_count": null,
   "id": "94e69e22-3c9b-4a1f-ae2e-b54089c001b7",
   "metadata": {},
   "outputs": [],
   "source": [
    "for f in os.listdir(path):\n",
    "    filename, fext = os.path.splitext(f)\n",
    "    \n",
    "    if filename in png_for_set_2:\n",
    "        image = cv2.imread(path+filename+fext)\n",
    "        new_image = ReduceGrey(image)\n",
    "        new_image = SelectAndCutBlackObject(new_image)\n",
    "        new_image = resizeAndPad(new_image,(600,600))\n",
    "\n",
    "        cv2.imwrite('C:/Users/Dell/Documents/COURSE 1/PROJEKT/code/1/{}.png'.format(filename), new_image)\n"
   ]
  },
  {
   "cell_type": "raw",
   "id": "d150928b-26e6-4917-b219-1713d498b124",
   "metadata": {},
   "source": [
    "#def gaus(scaled_img):\n",
    "   \n",
    "    #deer_gray = rgb2gray(scaled_img)#RGB to gray\n",
    "    \n",
    "    #deer_float = img_as_float(deer_gray)\n",
    "    #gimage = inverse_gaussian_gradient(deer_float, alpha=200.0, sigma=8.0) #gaus\n",
    "    #\n",
    "    #return gimageпрост\n",
    "        "
   ]
  },
  {
   "cell_type": "code",
   "execution_count": null,
   "id": "e2025d0b-831e-4ed1-b964-09aef38e365a",
   "metadata": {
    "tags": []
   },
   "outputs": [],
   "source": [
    "def store_evolution_in(lst):\n",
    "    \"\"\"Returns a callback function to store the evolution of the level sets in\n",
    "    the given list.\n",
    "    \"\"\"\n",
    "\n",
    "    def _store(x):\n",
    "        lst.append(np.copy(x))\n",
    "\n",
    "    return _store"
   ]
  },
  {
   "cell_type": "code",
   "execution_count": null,
   "id": "8346189a-10a6-4adf-95a5-d81611467498",
   "metadata": {},
   "outputs": [],
   "source": [
    "\n",
    "#gimage = inverse_gaussian_gradient(deer_float, alpha=100.0, sigma=5.0)\n",
    "def GAC(image):\n",
    "    \n",
    "    deer_gray = rgb2gray(image)#RGB to gray\n",
    "    \n",
    "    deer_float = img_as_float(deer_gray)\n",
    "    gimage = inverse_gaussian_gradient(deer_float, alpha=300.0, sigma=6) #gaus\n",
    "    \n",
    "    # Initial level set\n",
    "    init_ls = np.zeros(deer_gray.shape, dtype=np.int8)\n",
    "    init_ls[10:-10, 10:-10] = 1\n",
    "    # List with intermediate results for plotting the evolution\n",
    "    evolution = []\n",
    "    callback = store_evolution_in(evolution)\n",
    "    ls = morphological_geodesic_active_contour(gimage, \n",
    "                                               num_iter=400,\n",
    "                                               init_level_set=init_ls,\n",
    "                                               smoothing=2, \n",
    "                                               balloon=-1,\n",
    "                                               threshold=0.80,\n",
    "                                               iter_callback=callback)\n",
    "    \n",
    "    fig = plt.figure(figsize=(11, 11))\n",
    "    axis = plt.subplot()\n",
    "    plt.axis('off')\n",
    "    #fig.set_size_inches(600, 600) после создания изображения\n",
    "   \n",
    "\n",
    "    #ax[0].imshow(image, cmap=\"gray\")\n",
    "    #ax[0].set_axis_off()\n",
    "    #ax[0].contour(ls, [0.5], colors='r')\n",
    "    #ax[0].set_title(\"Morphological ACWE segmentation\", fontsize=12)\n",
    "    \n",
    "    \n",
    "    plt.imshow(ls, cmap=\"gray\")\n",
    "    #plt.contour(evolution[300], [0.5], colors='y')\n",
    "    plt.contour(evolution[-1], [0.75], colors='black')\n",
    "\n",
    "    gac = plt.show()\n",
    "    fig.savefig(\"C:/Users/Dell/Documents/COURSE 1/PROJEKT/code/2/\" + filename +\".png\",bbox_inches='tight', pad_inches=0)\n",
    "    return gac\n"
   ]
  },
  {
   "cell_type": "code",
   "execution_count": null,
   "id": "208f3b2b-8237-4653-a0de-dfb408c50498",
   "metadata": {},
   "outputs": [],
   "source": [
    "path2 = 'C:/Users/Dell/Documents/COURSE 1/PROJEKT/code/1/'"
   ]
  },
  {
   "cell_type": "code",
   "execution_count": null,
   "id": "e1a34747-5b76-4f76-ab59-66c39b3e4c91",
   "metadata": {},
   "outputs": [],
   "source": [
    "for f in os.listdir(path2):\n",
    "    filename, fext = os.path.splitext(f)\n",
    " \n",
    "    image = cv2.imread(path2+filename+fext)\n",
    "    \n",
    "    gac_image = GAC(image)"
   ]
  },
  {
   "cell_type": "code",
   "execution_count": null,
   "id": "ef745a13-77dd-4d6c-86cd-f89aef9be998",
   "metadata": {},
   "outputs": [],
   "source": [
    "def inv(img):\n",
    "    inverted_img = util.invert(img)\n",
    "    #invert = np.invert(image) - как вариант\n",
    "    #invert = cv2.bitwise_not(image) \n",
    "    return inverted_img"
   ]
  },
  {
   "cell_type": "code",
   "execution_count": null,
   "id": "69d3c061-a13e-4276-8434-825109884c21",
   "metadata": {},
   "outputs": [],
   "source": [
    "path3 = 'C:/Users/Dell/Documents/COURSE 1/PROJEKT/code/2/'"
   ]
  },
  {
   "cell_type": "code",
   "execution_count": null,
   "id": "b7be3092-4ed6-438b-9f50-2fe7e11f46ad",
   "metadata": {},
   "outputs": [],
   "source": [
    "for f in os.listdir(path3):\n",
    "    filename, fext = os.path.splitext(f)\n",
    "    image = cv2.imread(path3+filename+fext)\n",
    "    \n",
    "    final_img = inv(image)\n",
    "    cv2.imwrite('C:/Users/Dell/Documents/COURSE 1/PROJEKT/code/3/{}.png'.format(filename), final_img)"
   ]
  },
  {
   "cell_type": "code",
   "execution_count": null,
   "id": "2a99da3a-9d8a-4873-a754-94b3afc2c989",
   "metadata": {},
   "outputs": [],
   "source": []
  },
  {
   "cell_type": "code",
   "execution_count": null,
   "id": "47f50542-d570-4dda-b2d9-102c7566cfd1",
   "metadata": {},
   "outputs": [],
   "source": []
  },
  {
   "cell_type": "code",
   "execution_count": null,
   "id": "b23984c8-1015-488d-b19c-112b80b9432b",
   "metadata": {},
   "outputs": [],
   "source": [
    "#invert = np.invert(1-image)"
   ]
  },
  {
   "cell_type": "code",
   "execution_count": null,
   "id": "4c613235-989a-42f3-ab0b-4c29fb14e275",
   "metadata": {},
   "outputs": [],
   "source": []
  },
  {
   "cell_type": "code",
   "execution_count": null,
   "id": "efe76b16-0543-4ebb-a466-a6293d88d46e",
   "metadata": {},
   "outputs": [],
   "source": []
  },
  {
   "cell_type": "code",
   "execution_count": null,
   "id": "e2573967-c813-4358-bb8b-4b0a2b508949",
   "metadata": {},
   "outputs": [],
   "source": []
  },
  {
   "cell_type": "code",
   "execution_count": null,
   "id": "6764a9ed-da94-4e2a-af03-5eb89f734b78",
   "metadata": {},
   "outputs": [],
   "source": []
  },
  {
   "cell_type": "code",
   "execution_count": null,
   "id": "88326f34-94a2-422c-a0e3-befc50d5f974",
   "metadata": {},
   "outputs": [],
   "source": []
  },
  {
   "cell_type": "code",
   "execution_count": null,
   "id": "8526a324-2103-4f33-9c78-d3d547526223",
   "metadata": {},
   "outputs": [],
   "source": []
  },
  {
   "cell_type": "code",
   "execution_count": null,
   "id": "3ec680b4-19a4-4ff3-85ee-1cd2073a7218",
   "metadata": {},
   "outputs": [],
   "source": []
  }
 ],
 "metadata": {
  "kernelspec": {
   "display_name": "Python 3 (ipykernel)",
   "language": "python",
   "name": "python3"
  },
  "language_info": {
   "codemirror_mode": {
    "name": "ipython",
    "version": 3
   },
   "file_extension": ".py",
   "mimetype": "text/x-python",
   "name": "python",
   "nbconvert_exporter": "python",
   "pygments_lexer": "ipython3",
   "version": "3.9.7"
  },
  "toc-autonumbering": true
 },
 "nbformat": 4,
 "nbformat_minor": 5
}
